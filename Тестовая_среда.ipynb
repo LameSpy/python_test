{
  "nbformat": 4,
  "nbformat_minor": 0,
  "metadata": {
    "colab": {
      "name": "Тестовая среда",
      "provenance": [],
      "authorship_tag": "ABX9TyNBiq3NCrnkTBhe0xeMpKri",
      "include_colab_link": true
    },
    "kernelspec": {
      "name": "python3",
      "display_name": "Python 3"
    },
    "language_info": {
      "name": "python"
    }
  },
  "cells": [
    {
      "cell_type": "markdown",
      "metadata": {
        "id": "view-in-github",
        "colab_type": "text"
      },
      "source": [
        "<a href=\"https://colab.research.google.com/github/LameSpy/python_test/blob/main/%D0%A2%D0%B5%D1%81%D1%82%D0%BE%D0%B2%D0%B0%D1%8F_%D1%81%D1%80%D0%B5%D0%B4%D0%B0.ipynb\" target=\"_parent\"><img src=\"https://colab.research.google.com/assets/colab-badge.svg\" alt=\"Open In Colab\"/></a>"
      ]
    },
    {
      "cell_type": "markdown",
      "metadata": {
        "id": "jL3D2fxYPyUB"
      },
      "source": [
        "# Тестирование collab\n"
      ]
    },
    {
      "cell_type": "markdown",
      "metadata": {
        "id": "kj3DnHIWUDD6"
      },
      "source": [
        "Добавляем нужные пакеты"
      ]
    },
    {
      "cell_type": "code",
      "metadata": {
        "id": "TLsMcbO1UCWE"
      },
      "source": [
        "import matplotlib as mpl\n",
        "import matplotlib.pyplot as plt\n",
        "import seaborn as sns"
      ],
      "execution_count": null,
      "outputs": []
    },
    {
      "cell_type": "markdown",
      "metadata": {
        "id": "qPh_NwZzOklQ"
      },
      "source": [
        "Тут я тестирую функции питона"
      ]
    },
    {
      "cell_type": "code",
      "metadata": {
        "colab": {
          "base_uri": "https://localhost:8080/"
        },
        "id": "kIn2wKl1NzWY",
        "outputId": "0ab58031-742f-422b-9d46-e973c8c5d89c"
      },
      "source": [
        "#@title\n",
        "x = print(\"gdfhb\")"
      ],
      "execution_count": null,
      "outputs": [
        {
          "output_type": "stream",
          "text": [
            "gdfhb\n"
          ],
          "name": "stdout"
        }
      ]
    },
    {
      "cell_type": "markdown",
      "metadata": {
        "id": "qhegOTWcPHNQ"
      },
      "source": [
        "Тестирование Магии"
      ]
    },
    {
      "cell_type": "code",
      "metadata": {
        "id": "2qU6nIsrOOk3"
      },
      "source": [
        "pip?"
      ],
      "execution_count": null,
      "outputs": []
    },
    {
      "cell_type": "code",
      "metadata": {
        "colab": {
          "base_uri": "https://localhost:8080/"
        },
        "id": "xrgZ-tXGRQgO",
        "outputId": "d8f5ba90-8251-4a3e-a325-09099bc9640e"
      },
      "source": [
        "%%timeit a = []\n",
        "for i in range(100):\n",
        "  a.append(i)\n"
      ],
      "execution_count": null,
      "outputs": [
        {
          "output_type": "stream",
          "text": [
            "10000000 loops, best of 5: 31.3 ns per loop\n"
          ],
          "name": "stdout"
        }
      ]
    },
    {
      "cell_type": "code",
      "metadata": {
        "colab": {
          "base_uri": "https://localhost:8080/"
        },
        "id": "GMvwhDUkRhCQ",
        "outputId": "2d6b68d3-a170-4e84-e4a3-59d9a782a406"
      },
      "source": [
        "%%timeit \n",
        "a = [i for i in range(100)]"
      ],
      "execution_count": null,
      "outputs": [
        {
          "output_type": "stream",
          "text": [
            "100000 loops, best of 5: 3.55 µs per loop\n"
          ],
          "name": "stdout"
        }
      ]
    },
    {
      "cell_type": "code",
      "metadata": {
        "id": "MS67_Y38T37d"
      },
      "source": [
        ""
      ],
      "execution_count": null,
      "outputs": []
    }
  ]
}